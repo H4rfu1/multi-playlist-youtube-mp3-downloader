{
  "nbformat": 4,
  "nbformat_minor": 0,
  "metadata": {
    "colab": {
      "name": "Copy of multi playlist youtube mp3 downloader.ipynb",
      "provenance": [],
      "collapsed_sections": [
        "RDzagnOKM_sH",
        "ZuigK3yJIoaR",
        "G7Ww9AZhGzpF"
      ]
    },
    "kernelspec": {
      "name": "python3",
      "display_name": "Python 3"
    },
    "language_info": {
      "name": "python"
    }
  },
  "cells": [
    {
      "cell_type": "markdown",
      "source": [
        "#downloader app"
      ],
      "metadata": {
        "id": "RDzagnOKM_sH"
      }
    },
    {
      "cell_type": "markdown",
      "source": [
        "## Requirement Library"
      ],
      "metadata": {
        "id": "ZuigK3yJIoaR"
      }
    },
    {
      "cell_type": "code",
      "source": [
        "!pip install git+https://github.com/rmerzouki/pytube"
      ],
      "metadata": {
        "colab": {
          "base_uri": "https://localhost:8080/"
        },
        "id": "1tIdW4KI6k9a",
        "outputId": "b18ecc1d-ce4e-4e11-bc63-c603285516de"
      },
      "execution_count": 1,
      "outputs": [
        {
          "output_type": "stream",
          "name": "stdout",
          "text": [
            "Collecting git+https://github.com/rmerzouki/pytube\n",
            "  Cloning https://github.com/rmerzouki/pytube to /tmp/pip-req-build-66s23d7v\n",
            "  Running command git clone -q https://github.com/rmerzouki/pytube /tmp/pip-req-build-66s23d7v\n",
            "Building wheels for collected packages: pytube\n",
            "  Building wheel for pytube (setup.py) ... \u001b[?25l\u001b[?25hdone\n",
            "  Created wheel for pytube: filename=pytube-11.0.2-py3-none-any.whl size=56537 sha256=cda4231f9c817be1faf5523904b83bcfec9a941e906bacc4e49a3d106689a1e6\n",
            "  Stored in directory: /tmp/pip-ephem-wheel-cache-jdp56urf/wheels/d0/af/ac/38d792dda303a5e48d2b289753a17d6e8c9dba0d3fa27884bd\n",
            "Successfully built pytube\n",
            "Installing collected packages: pytube\n",
            "Successfully installed pytube-11.0.2\n"
          ]
        }
      ]
    },
    {
      "cell_type": "code",
      "source": [
        "from pytube import YouTube\n",
        "from pytube import Playlist\n",
        "import os\n",
        "import moviepy.editor as mp\n",
        "import re\n",
        "import time\n",
        "import progressbar"
      ],
      "metadata": {
        "colab": {
          "base_uri": "https://localhost:8080/"
        },
        "id": "WLFf8i4r8u1t",
        "outputId": "b1715fbf-3b90-4002-849e-6e19789076fc"
      },
      "execution_count": 2,
      "outputs": [
        {
          "output_type": "stream",
          "name": "stdout",
          "text": [
            "Imageio: 'ffmpeg-linux64-v3.3.1' was not found on your computer; downloading it now.\n",
            "Try 1. Download from https://github.com/imageio/imageio-binaries/raw/master/ffmpeg/ffmpeg-linux64-v3.3.1 (43.8 MB)\n",
            "Downloading: 8192/45929032 bytes (0.0%)\b\b\b\b\b\b\b\b\b\b\b\b\b\b\b\b\b\b\b\b\b\b\b\b\b\b2523136/45929032 bytes (5.5%)\b\b\b\b\b\b\b\b\b\b\b\b\b\b\b\b\b\b\b\b\b\b\b\b\b\b\b\b\b5922816/45929032 bytes (12.9%)\b\b\b\b\b\b\b\b\b\b\b\b\b\b\b\b\b\b\b\b\b\b\b\b\b\b\b\b\b\b9150464/45929032 bytes (19.9%)\b\b\b\b\b\b\b\b\b\b\b\b\b\b\b\b\b\b\b\b\b\b\b\b\b\b\b\b\b\b12435456/45929032 bytes (27.1%)\b\b\b\b\b\b\b\b\b\b\b\b\b\b\b\b\b\b\b\b\b\b\b\b\b\b\b\b\b\b\b15802368/45929032 bytes (34.4%)\b\b\b\b\b\b\b\b\b\b\b\b\b\b\b\b\b\b\b\b\b\b\b\b\b\b\b\b\b\b\b19111936/45929032 bytes (41.6%)\b\b\b\b\b\b\b\b\b\b\b\b\b\b\b\b\b\b\b\b\b\b\b\b\b\b\b\b\b\b\b22364160/45929032 bytes (48.7%)\b\b\b\b\b\b\b\b\b\b\b\b\b\b\b\b\b\b\b\b\b\b\b\b\b\b\b\b\b\b\b25878528/45929032 bytes (56.3%)\b\b\b\b\b\b\b\b\b\b\b\b\b\b\b\b\b\b\b\b\b\b\b\b\b\b\b\b\b\b\b29417472/45929032 bytes (64.0%)\b\b\b\b\b\b\b\b\b\b\b\b\b\b\b\b\b\b\b\b\b\b\b\b\b\b\b\b\b\b\b33005568/45929032 bytes (71.9%)\b\b\b\b\b\b\b\b\b\b\b\b\b\b\b\b\b\b\b\b\b\b\b\b\b\b\b\b\b\b\b36675584/45929032 bytes (79.9%)\b\b\b\b\b\b\b\b\b\b\b\b\b\b\b\b\b\b\b\b\b\b\b\b\b\b\b\b\b\b\b40075264/45929032 bytes (87.3%)\b\b\b\b\b\b\b\b\b\b\b\b\b\b\b\b\b\b\b\b\b\b\b\b\b\b\b\b\b\b\b42598400/45929032 bytes (92.7%)\b\b\b\b\b\b\b\b\b\b\b\b\b\b\b\b\b\b\b\b\b\b\b\b\b\b\b\b\b\b\b45572096/45929032 bytes (99.2%)\b\b\b\b\b\b\b\b\b\b\b\b\b\b\b\b\b\b\b\b\b\b\b\b\b\b\b\b\b\b\b45929032/45929032 bytes (100.0%)\n",
            "  Done\n",
            "File saved as /root/.imageio/ffmpeg/ffmpeg-linux64-v3.3.1.\n"
          ]
        }
      ]
    },
    {
      "cell_type": "markdown",
      "source": [
        "## Function"
      ],
      "metadata": {
        "id": "mkztHgw3I11W"
      }
    },
    {
      "cell_type": "code",
      "source": [
        "def getPlaylist(listUrl):\n",
        "  resultUrl = set()\n",
        "  total = 0\n",
        "  for url in listUrl:\n",
        "    p = Playlist(url)\n",
        "    print(f'PlayList: {p.title}')\n",
        "    print(f'Jumlah  : {str(len(p))}')\n",
        "    total += len(p)\n",
        "    for item in p:\n",
        "      resultUrl.add(item)\n",
        "  print()\n",
        "  print('total playlist video = ' + str(total))\n",
        "  print('total unique video = ' + str(len(resultUrl)))\n",
        "  return resultUrl"
      ],
      "metadata": {
        "id": "2TmG-P0iEr9c"
      },
      "execution_count": 3,
      "outputs": []
    },
    {
      "cell_type": "code",
      "source": [
        "def checkPlaylist(playlist):\n",
        "  print('Jumlah = ' + str(len(playlist)))\n",
        "  print('List   = ' + str(playlist))"
      ],
      "metadata": {
        "id": "LPuPVz_VI6cl"
      },
      "execution_count": 4,
      "outputs": []
    },
    {
      "cell_type": "code",
      "source": [
        "def downloadMp3(playlist, folder):\n",
        "  # Progressbar\n",
        "  widgets = [' [',progressbar.Timer(format= 'elapsed time: %(elapsed)s'),\n",
        "              '] ',progressbar.Bar('*'),' (',progressbar.ETA(), ') ',\n",
        "            ]\n",
        "  bar = progressbar.ProgressBar(max_value=len(playlist),widgets=widgets).start()\n",
        "\n",
        "  # Downloading Stream youtube video...\n",
        "  count = 0\n",
        "  for url in playlist:\n",
        "    YouTube(url).streams.filter(only_audio=True).first().download(folder)\n",
        "    count +=1\n",
        "    bar.update(count)\n",
        "\n",
        "  # Converting video to mp3...\n",
        "  bar2 = progressbar.ProgressBar(max_value=len(playlist),widgets=widgets).start()\n",
        "  count = 0\n",
        "  for file in os.listdir(folder):\n",
        "    if re.search('mp4', file):\n",
        "      mp4_path = os.path.join(folder,file)\n",
        "      mp3_path = os.path.join(folder,os.path.splitext(file)[0]+'.mp3')\n",
        "      new_file = mp.AudioFileClip(mp4_path)\n",
        "      new_file.write_audiofile(mp3_path)\n",
        "      os.remove(mp4_path)\n",
        "    count +=1\n",
        "    bar2.update(count)"
      ],
      "metadata": {
        "id": "XemwmYMy8Si2"
      },
      "execution_count": 5,
      "outputs": []
    },
    {
      "cell_type": "markdown",
      "source": [
        "# main"
      ],
      "metadata": {
        "id": "dU1mzSwUJMB1"
      }
    },
    {
      "cell_type": "code",
      "source": [
        "# get list url\n",
        "listUrl = [\n",
        "           'https://www.youtube.com/playlist?list=RDCLAK5uy_mCIpi8dUbG9aDDKmzDkp3zhoYAIP2I0Es',\n",
        "           'https://www.youtube.com/playlist?list=PLuwreEuWEAFglaoOcyl1M1-q1s1K-wQax',\n",
        "           'https://www.youtube.com/playlist?list=PL8zdtZwa2g10kPvaRGGpGx7L7cxaLrqW8',\n",
        "           'https://www.youtube.com/playlist?list=PLz7L40s--srPjyHMZD4t9voryHsm4thXi',\n",
        "           'https://www.youtube.com/playlist?list=PLHZf5YcKSQfKstmhpdZQSj8stwQ6uuAVL',\n",
        "           'https://www.youtube.com/playlist?list=PLpLDcfknz3sQjY3a1mTx8aHa0wOSHwSW8'\n",
        "           ]\n",
        "playlist = getPlaylist(listUrl)"
      ],
      "metadata": {
        "colab": {
          "base_uri": "https://localhost:8080/"
        },
        "id": "KjAJ1qcs7-A5",
        "outputId": "96e9d7a9-4d98-401b-d4a3-d5bcda473c9b"
      },
      "execution_count": 6,
      "outputs": [
        {
          "output_type": "stream",
          "name": "stdout",
          "text": [
            "PlayList: Presenting Happy Asmara\n",
            "Jumlah  : 25\n",
            "PlayList: Full Album Happy Asmara\n",
            "Jumlah  : 55\n",
            "PlayList: Best Happy Asmara\n",
            "Jumlah  : 49\n",
            "PlayList: Lagu Terbaik Happy Asmara ( Lagu Jawa Happy Asmara Terbaru 2020 Terpopuler Saat ini ) Full Album\n",
            "Jumlah  : 96\n",
            "PlayList: HAPPY ASMARA (ANEKA SAFARI)\n",
            "Jumlah  : 54\n",
            "PlayList: Happy Asmara Terbaru 2021\n",
            "Jumlah  : 76\n",
            "\n",
            "total playlist video = 355\n",
            "total unique video = 241\n"
          ]
        }
      ]
    },
    {
      "cell_type": "code",
      "source": [
        "#check data list url\n",
        "checkPlaylist(playlist)"
      ],
      "metadata": {
        "colab": {
          "base_uri": "https://localhost:8080/"
        },
        "id": "p_cK7SVb7-3P",
        "outputId": "9a571551-f77c-4082-9b5b-667ded3635b6"
      },
      "execution_count": 7,
      "outputs": [
        {
          "output_type": "stream",
          "name": "stdout",
          "text": [
            "Jumlah = 241\n",
            "List   = {'https://www.youtube.com/watch?v=7k24ulM0CMw', 'https://www.youtube.com/watch?v=KxjfY2PgBjE', 'https://www.youtube.com/watch?v=Ww2b7D_qmS8', 'https://www.youtube.com/watch?v=XVRXlZ5ISLc', 'https://www.youtube.com/watch?v=I2pA2_-sCv0', 'https://www.youtube.com/watch?v=ZSIPDvLs4G8', 'https://www.youtube.com/watch?v=L7ceoqFP1GM', 'https://www.youtube.com/watch?v=MfUEQY9FJcQ', 'https://www.youtube.com/watch?v=FF4BH8CG-WM', 'https://www.youtube.com/watch?v=4QbHWda2aTA', 'https://www.youtube.com/watch?v=lSRpZykUb8E', 'https://www.youtube.com/watch?v=r9QdWkgsrUY', 'https://www.youtube.com/watch?v=VEv1iQ9cn4c', 'https://www.youtube.com/watch?v=AkxdisryoeY', 'https://www.youtube.com/watch?v=mrjjXMepP-w', 'https://www.youtube.com/watch?v=sFqozMWdti0', 'https://www.youtube.com/watch?v=S-pDTsEhg4M', 'https://www.youtube.com/watch?v=VQGTWeRnIDk', 'https://www.youtube.com/watch?v=2cC7FqOAKnI', 'https://www.youtube.com/watch?v=Pwcc23TXNIw', 'https://www.youtube.com/watch?v=631gZqxLsRo', 'https://www.youtube.com/watch?v=VnWiuOXY5K4', 'https://www.youtube.com/watch?v=GuGFdy62bOs', 'https://www.youtube.com/watch?v=E9KDG75yhMM', 'https://www.youtube.com/watch?v=_tXmgduAkGQ', 'https://www.youtube.com/watch?v=1WLWXRgOB88', 'https://www.youtube.com/watch?v=c3XzWhyvsmc', 'https://www.youtube.com/watch?v=mEWkHVpQIB0', 'https://www.youtube.com/watch?v=0R-4OZ_H8yQ', 'https://www.youtube.com/watch?v=UYnT5vpSL7o', 'https://www.youtube.com/watch?v=YvrFDE8KjZU', 'https://www.youtube.com/watch?v=KY76wSWgmFo', 'https://www.youtube.com/watch?v=reNo-TR1sBA', 'https://www.youtube.com/watch?v=cxtUBgzpczc', 'https://www.youtube.com/watch?v=xxuE62OzBPU', 'https://www.youtube.com/watch?v=2TIVeMZrW1Q', 'https://www.youtube.com/watch?v=G25-ClFwbFc', 'https://www.youtube.com/watch?v=zrGW7R0yCrI', 'https://www.youtube.com/watch?v=vLxvHCMp7yg', 'https://www.youtube.com/watch?v=VjB9UmD4ZSk', 'https://www.youtube.com/watch?v=dlc9kqF6jbI', 'https://www.youtube.com/watch?v=fKVgm3_x-OI', 'https://www.youtube.com/watch?v=URXRi2hHbgU', 'https://www.youtube.com/watch?v=4feWmtDGmss', 'https://www.youtube.com/watch?v=S7dNVwxmP7w', 'https://www.youtube.com/watch?v=V_hI9F5KvjM', 'https://www.youtube.com/watch?v=v83hBiuJuRc', 'https://www.youtube.com/watch?v=sJSv6Ht9ii4', 'https://www.youtube.com/watch?v=EiU4GrsEowg', 'https://www.youtube.com/watch?v=p0A41jgxeoA', 'https://www.youtube.com/watch?v=pFj1nurp06E', 'https://www.youtube.com/watch?v=yo1BQrlXiCM', 'https://www.youtube.com/watch?v=SboLQGzf1xI', 'https://www.youtube.com/watch?v=sT3ddVqMjB4', 'https://www.youtube.com/watch?v=w8TnupD-psQ', 'https://www.youtube.com/watch?v=YtzMbn5vI0k', 'https://www.youtube.com/watch?v=UZfF0fKKHsQ', 'https://www.youtube.com/watch?v=Tlbwopq4C5s', 'https://www.youtube.com/watch?v=v0bGP2vqjHM', 'https://www.youtube.com/watch?v=dGmIsKMk8JE', 'https://www.youtube.com/watch?v=nBQ5ewHemh0', 'https://www.youtube.com/watch?v=5ts6rPB_2uI', 'https://www.youtube.com/watch?v=1R0MGZtNxFo', 'https://www.youtube.com/watch?v=5F61m4HRetE', 'https://www.youtube.com/watch?v=q-dpDcf8HRg', 'https://www.youtube.com/watch?v=ByZH2SXAR8Q', 'https://www.youtube.com/watch?v=Ei8z9V109aw', 'https://www.youtube.com/watch?v=E3dZs0kJ4w4', 'https://www.youtube.com/watch?v=cHpzaWgMKbE', 'https://www.youtube.com/watch?v=J4ApHh-cUV8', 'https://www.youtube.com/watch?v=9u8MDiy7y9I', 'https://www.youtube.com/watch?v=Qb80RcVArgY', 'https://www.youtube.com/watch?v=UcFaOBM5YxM', 'https://www.youtube.com/watch?v=dCD-oMO8_Gw', 'https://www.youtube.com/watch?v=TryOUves_z8', 'https://www.youtube.com/watch?v=KDYnNC2G1Ws', 'https://www.youtube.com/watch?v=5Cxtovlm_xY', 'https://www.youtube.com/watch?v=WApf_TjPnrs', 'https://www.youtube.com/watch?v=Cl5JjnjAnMA', 'https://www.youtube.com/watch?v=W1e1ZZidrAg', 'https://www.youtube.com/watch?v=V1jC8Jn2Mow', 'https://www.youtube.com/watch?v=iZ3FOZTeFm8', 'https://www.youtube.com/watch?v=TXCR5gGp5A8', 'https://www.youtube.com/watch?v=WUEMigz0RE8', 'https://www.youtube.com/watch?v=2g23tdgo76I', 'https://www.youtube.com/watch?v=nhLWD6Vybzg', 'https://www.youtube.com/watch?v=LihONInHIO0', 'https://www.youtube.com/watch?v=IpNyakmAaKQ', 'https://www.youtube.com/watch?v=68WAu3t_UhA', 'https://www.youtube.com/watch?v=_OiuJ7uhWjk', 'https://www.youtube.com/watch?v=3t8UjsSzR2w', 'https://www.youtube.com/watch?v=j0OzLupdaFw', 'https://www.youtube.com/watch?v=r4Q3BCBeUf4', 'https://www.youtube.com/watch?v=EqcDVtnbuJQ', 'https://www.youtube.com/watch?v=58DaVLMK_v4', 'https://www.youtube.com/watch?v=vvHJvIe_Mb0', 'https://www.youtube.com/watch?v=B3kZTS0oT9A', 'https://www.youtube.com/watch?v=yb2kFQtoXgk', 'https://www.youtube.com/watch?v=13287ufaWEk', 'https://www.youtube.com/watch?v=5bUI8BuYYdI', 'https://www.youtube.com/watch?v=_-CBoGi1Lvc', 'https://www.youtube.com/watch?v=dyPcZtpfnZs', 'https://www.youtube.com/watch?v=8VNz2DAdhvk', 'https://www.youtube.com/watch?v=yByXJd6_Tf8', 'https://www.youtube.com/watch?v=NhG4wZZbSxo', 'https://www.youtube.com/watch?v=c5K2XD1slqM', 'https://www.youtube.com/watch?v=Hmq1UsCvV_0', 'https://www.youtube.com/watch?v=AVkkwnvBK8s', 'https://www.youtube.com/watch?v=-laOmPdPUTI', 'https://www.youtube.com/watch?v=sG7UTfwtVwM', 'https://www.youtube.com/watch?v=47yOy6IQZoA', 'https://www.youtube.com/watch?v=xlZ0zxEzliE', 'https://www.youtube.com/watch?v=joNghUyBrik', 'https://www.youtube.com/watch?v=WfnrullLIIM', 'https://www.youtube.com/watch?v=zD2L_LU1hNM', 'https://www.youtube.com/watch?v=FQWUCOVoqDQ', 'https://www.youtube.com/watch?v=z-iCudg0XZA', 'https://www.youtube.com/watch?v=GNpWQcEJh2s', 'https://www.youtube.com/watch?v=_lnV_wlzRJQ', 'https://www.youtube.com/watch?v=OtB4uDBCb44', 'https://www.youtube.com/watch?v=uxe468IfUYs', 'https://www.youtube.com/watch?v=ugTBZZgIpHQ', 'https://www.youtube.com/watch?v=4vBc8p4dBWw', 'https://www.youtube.com/watch?v=ctplduRvYX4', 'https://www.youtube.com/watch?v=3C9dNIdbSrc', 'https://www.youtube.com/watch?v=Xz5KcQNaOyw', 'https://www.youtube.com/watch?v=xLneqOwiSq4', 'https://www.youtube.com/watch?v=M96-BOvxDUY', 'https://www.youtube.com/watch?v=a9t3ATV98pw', 'https://www.youtube.com/watch?v=3wKYf_Ue9Go', 'https://www.youtube.com/watch?v=6PNW1pYKI8Y', 'https://www.youtube.com/watch?v=PwyVICZxax0', 'https://www.youtube.com/watch?v=n4U083ad3Oc', 'https://www.youtube.com/watch?v=9Rq1l1h3B14', 'https://www.youtube.com/watch?v=g_tPV4StxvU', 'https://www.youtube.com/watch?v=RBGBfHvBe0s', 'https://www.youtube.com/watch?v=qqzitpgHpy8', 'https://www.youtube.com/watch?v=YhDFTwrmFQI', 'https://www.youtube.com/watch?v=lDEa7bRGvPw', 'https://www.youtube.com/watch?v=6uhkcJUt0fo', 'https://www.youtube.com/watch?v=PwcNB0sRXi0', 'https://www.youtube.com/watch?v=KBqCmoV57cc', 'https://www.youtube.com/watch?v=9jHhCfMVPbE', 'https://www.youtube.com/watch?v=X216n4Wr-Bo', 'https://www.youtube.com/watch?v=WL1_SNXHyek', 'https://www.youtube.com/watch?v=Y4sxKVZSBxc', 'https://www.youtube.com/watch?v=qMTSYp9pxAg', 'https://www.youtube.com/watch?v=2CeMGhJuRzQ', 'https://www.youtube.com/watch?v=dYAje9kl5ik', 'https://www.youtube.com/watch?v=I3Wl9d21AjY', 'https://www.youtube.com/watch?v=-EtTIw-inFE', 'https://www.youtube.com/watch?v=d_pb5TGwKzI', 'https://www.youtube.com/watch?v=WiI5g4Zr7F0', 'https://www.youtube.com/watch?v=sN67zp03pL8', 'https://www.youtube.com/watch?v=0UHLdcaZdM0', 'https://www.youtube.com/watch?v=bT7gQJc8vH4', 'https://www.youtube.com/watch?v=kJzkhy4wW2Q', 'https://www.youtube.com/watch?v=HXoOQYEhtNA', 'https://www.youtube.com/watch?v=Qu5EclB8Zu8', 'https://www.youtube.com/watch?v=N8QiQYC1-BI', 'https://www.youtube.com/watch?v=6W8pvqycRfU', 'https://www.youtube.com/watch?v=o6wKKv4V_94', 'https://www.youtube.com/watch?v=-Gefi4sxZgM', 'https://www.youtube.com/watch?v=kRrx0_QMoSM', 'https://www.youtube.com/watch?v=icmdD4fvJm0', 'https://www.youtube.com/watch?v=W_8mBam6fJc', 'https://www.youtube.com/watch?v=DSKNWoMAOHI', 'https://www.youtube.com/watch?v=F-DNqANxm60', 'https://www.youtube.com/watch?v=7S6sihfwig0', 'https://www.youtube.com/watch?v=CEUJ5E28P1U', 'https://www.youtube.com/watch?v=EkDNlfY7vKU', 'https://www.youtube.com/watch?v=R1tV3_TAYl8', 'https://www.youtube.com/watch?v=lxBf6SwCb-c', 'https://www.youtube.com/watch?v=GctKHFpYWZc', 'https://www.youtube.com/watch?v=BwenPTLaVMw', 'https://www.youtube.com/watch?v=ZpNTgh5Rtww', 'https://www.youtube.com/watch?v=yttLWr-eJwI', 'https://www.youtube.com/watch?v=q_4S6te0XFs', 'https://www.youtube.com/watch?v=3CF4f3TgNeM', 'https://www.youtube.com/watch?v=PlMtbxPu8A8', 'https://www.youtube.com/watch?v=nmkpWKxPWRg', 'https://www.youtube.com/watch?v=8QeVIku_GgI', 'https://www.youtube.com/watch?v=9dacI32fwI0', 'https://www.youtube.com/watch?v=AxKQ7IzGbgY', 'https://www.youtube.com/watch?v=T0KF5BIecjY', 'https://www.youtube.com/watch?v=LTycDlx3hWw', 'https://www.youtube.com/watch?v=gGRCd50Q6Hc', 'https://www.youtube.com/watch?v=L6_YxPZ3abA', 'https://www.youtube.com/watch?v=hfgZItCuwIk', 'https://www.youtube.com/watch?v=hibPr5gSeW8', 'https://www.youtube.com/watch?v=zzABm07Hxgc', 'https://www.youtube.com/watch?v=OIyREujgWnQ', 'https://www.youtube.com/watch?v=vfonVtWsayA', 'https://www.youtube.com/watch?v=_vs-qG4vHsk', 'https://www.youtube.com/watch?v=OGy1zF0uAmk', 'https://www.youtube.com/watch?v=-Cr2IP2M_1U', 'https://www.youtube.com/watch?v=x63HLo05HUI', 'https://www.youtube.com/watch?v=Msj8WvqsHYY', 'https://www.youtube.com/watch?v=bPXV10aXr6Y', 'https://www.youtube.com/watch?v=vlsK-wMh4R4', 'https://www.youtube.com/watch?v=HqrQNMHNgdg', 'https://www.youtube.com/watch?v=2RfWRxmhTt8', 'https://www.youtube.com/watch?v=rDzRTU8LvBE', 'https://www.youtube.com/watch?v=84isoX27JuU', 'https://www.youtube.com/watch?v=xEIGvcibxeA', 'https://www.youtube.com/watch?v=TVPlCXDvtVE', 'https://www.youtube.com/watch?v=kkFUAkifDAc', 'https://www.youtube.com/watch?v=m6PyJ6wzWR4', 'https://www.youtube.com/watch?v=MVF_U0-8dKs', 'https://www.youtube.com/watch?v=l1qz7qskN_4', 'https://www.youtube.com/watch?v=_xyTdekFcks', 'https://www.youtube.com/watch?v=RAS3lvsJDSw', 'https://www.youtube.com/watch?v=6vHHSJwUfZA', 'https://www.youtube.com/watch?v=6tSVyh9DiHo', 'https://www.youtube.com/watch?v=yDCOBzzL-lc', 'https://www.youtube.com/watch?v=fb7lwDtkM-8', 'https://www.youtube.com/watch?v=OrFCDI0BES4', 'https://www.youtube.com/watch?v=vDdADxJEC1s', 'https://www.youtube.com/watch?v=83AYQHCMoBo', 'https://www.youtube.com/watch?v=JkU5B3hEGRo', 'https://www.youtube.com/watch?v=R3viaQnwayI', 'https://www.youtube.com/watch?v=MoXlpJj7rtc', 'https://www.youtube.com/watch?v=002Pt-WJO3w', 'https://www.youtube.com/watch?v=aqAoOIGmSZ8', 'https://www.youtube.com/watch?v=kMdmtA6OJBQ', 'https://www.youtube.com/watch?v=qa_4vBq2nEU', 'https://www.youtube.com/watch?v=S7Y_0oXRXM4', 'https://www.youtube.com/watch?v=En6HwFYwalw', 'https://www.youtube.com/watch?v=zCmHodTpt9I', 'https://www.youtube.com/watch?v=_yPMWH8ugn4', 'https://www.youtube.com/watch?v=WFtgpdPmUuo', 'https://www.youtube.com/watch?v=Nt3qWVkvelw', 'https://www.youtube.com/watch?v=T4l17vWcLvE', 'https://www.youtube.com/watch?v=__bnvW1Hny8', 'https://www.youtube.com/watch?v=JTzSgWpHJAg', 'https://www.youtube.com/watch?v=AoskejOJeH0', 'https://www.youtube.com/watch?v=3TC_tmtUsTQ', 'https://www.youtube.com/watch?v=UCwtxYxoRvs', 'https://www.youtube.com/watch?v=i9bwLzmextU', 'https://www.youtube.com/watch?v=-eiVxjz68Gw', 'https://www.youtube.com/watch?v=KxmC9ZURT7Y'}\n"
          ]
        }
      ]
    },
    {
      "cell_type": "code",
      "source": [
        "#download All. more than 100 i suggest download partially using next code because of robot detector or/ u can use your own jupyter notebook\n",
        "folder = '/content/filemp4'\n",
        "downloadMp3(playlist, folder)"
      ],
      "metadata": {
        "colab": {
          "base_uri": "https://localhost:8080/"
        },
        "id": "WZodzye68SHm",
        "outputId": "ffdc7bdc-e1f8-479d-de08-deec429a0c82"
      },
      "execution_count": null,
      "outputs": [
        {
          "metadata": {
            "tags": null
          },
          "name": "stderr",
          "output_type": "stream",
          "text": [
            " [elapsed time: 0:03:34] |***********************           | (ETA:   0:01:40) "
          ]
        }
      ]
    },
    {
      "cell_type": "code",
      "source": [
        "# change set to list\n",
        "videoList = list(playlist)"
      ],
      "metadata": {
        "id": "9ZRWT1DfcIaE"
      },
      "execution_count": 8,
      "outputs": []
    },
    {
      "cell_type": "code",
      "source": [
        "# limit 101 download. number 101 can be changed accordingly.\n",
        "# remove previous mp3\n",
        "!rm -r /content/filemp4\n",
        "#example -> [:100] | [100:200] | [200:]\n",
        "folder = '/content/filemp4'\n",
        "downloadMp3(videoList[:100], folder)\n",
        "downloadMp3(videoList[100:], folder)"
      ],
      "metadata": {
        "id": "FKWOIxp3XXvs",
        "colab": {
          "base_uri": "https://localhost:8080/"
        },
        "outputId": "e3e06087-625f-4e41-ebd6-641838ef1eaa"
      },
      "execution_count": null,
      "outputs": [
        {
          "output_type": "stream",
          "name": "stdout",
          "text": [
            "rm: cannot remove '/content/filemp4': No such file or directory\n"
          ]
        },
        {
          "output_type": "stream",
          "name": "stderr",
          "text": [
            " [elapsed time: 0:00:00] |                                  | (ETA:  --:--:--) "
          ]
        },
        {
          "output_type": "stream",
          "name": "stdout",
          "text": [
            "[MoviePy] Writing audio in /content/filemp4/Happy Asmara - Salam Tresno (Official Music Video ANEKA SAFARI).mp3\n"
          ]
        },
        {
          "output_type": "stream",
          "name": "stderr",
          "text": [
            "100%|██████████| 6552/6552 [00:10<00:00, 613.22it/s]"
          ]
        },
        {
          "output_type": "stream",
          "name": "stdout",
          "text": [
            "[MoviePy] Done.\n"
          ]
        },
        {
          "output_type": "stream",
          "name": "stderr",
          "text": [
            "\n",
            "\r                                                                               \r\r [elapsed time: 0:00:10] |                                  | (ETA:   0:25:08) "
          ]
        },
        {
          "output_type": "stream",
          "name": "stdout",
          "text": [
            "[MoviePy] Writing audio in /content/filemp4/Happy Asmara - Kelambi Suwek (Official Music Video ANEKA SAFARI).mp3\n"
          ]
        },
        {
          "output_type": "stream",
          "name": "stderr",
          "text": [
            "100%|██████████| 6107/6107 [00:09<00:00, 625.50it/s]"
          ]
        },
        {
          "output_type": "stream",
          "name": "stdout",
          "text": [
            "[MoviePy] Done.\n"
          ]
        },
        {
          "output_type": "stream",
          "name": "stderr",
          "text": [
            "\n",
            "\r                                                                               \r\r [elapsed time: 0:00:20] |                                  | (ETA:   0:23:52) "
          ]
        },
        {
          "output_type": "stream",
          "name": "stdout",
          "text": [
            "[MoviePy] Writing audio in /content/filemp4/HAPPY ASMARA - KADUNG JERU (Official Music Video).mp3\n"
          ]
        },
        {
          "output_type": "stream",
          "name": "stderr",
          "text": [
            "100%|██████████| 7149/7149 [00:11<00:00, 612.54it/s]"
          ]
        },
        {
          "output_type": "stream",
          "name": "stdout",
          "text": [
            "[MoviePy] Done.\n"
          ]
        },
        {
          "output_type": "stream",
          "name": "stderr",
          "text": [
            "\n",
            "\r                                                                               \r\r [elapsed time: 0:00:32] |                                  | (ETA:   0:24:49) "
          ]
        },
        {
          "output_type": "stream",
          "name": "stdout",
          "text": [
            "[MoviePy] Writing audio in /content/filemp4/Happy Asmara - Pisah Turu [OFFICIAL].mp3\n"
          ]
        },
        {
          "output_type": "stream",
          "name": "stderr",
          "text": [
            "100%|██████████| 7412/7412 [00:12<00:00, 583.28it/s]"
          ]
        },
        {
          "output_type": "stream",
          "name": "stdout",
          "text": [
            "[MoviePy] Done.\n"
          ]
        },
        {
          "output_type": "stream",
          "name": "stderr",
          "text": [
            "\n",
            "\r                                                                               \r\r [elapsed time: 0:00:45] |                                  | (ETA:   0:25:47) "
          ]
        },
        {
          "output_type": "stream",
          "name": "stdout",
          "text": [
            "[MoviePy] Writing audio in /content/filemp4/Happy Asmara - Ojo Getun (Official Music Video).mp3\n"
          ]
        },
        {
          "output_type": "stream",
          "name": "stderr",
          "text": [
            "100%|██████████| 6297/6297 [00:10<00:00, 624.30it/s]"
          ]
        },
        {
          "output_type": "stream",
          "name": "stdout",
          "text": [
            "[MoviePy] Done.\n"
          ]
        },
        {
          "output_type": "stream",
          "name": "stderr",
          "text": [
            "\n",
            "\r                                                                               \r\r [elapsed time: 0:00:55] |*                                 | (ETA:   0:25:05) "
          ]
        },
        {
          "output_type": "stream",
          "name": "stdout",
          "text": [
            "[MoviePy] Writing audio in /content/filemp4/Happy Asmara - Yakinlah Sayang [OFFICIAL].mp3\n"
          ]
        },
        {
          "output_type": "stream",
          "name": "stderr",
          "text": [
            "100%|██████████| 7881/7881 [00:13<00:00, 603.85it/s]"
          ]
        },
        {
          "output_type": "stream",
          "name": "stdout",
          "text": [
            "[MoviePy] Done.\n"
          ]
        },
        {
          "output_type": "stream",
          "name": "stderr",
          "text": [
            "\n",
            "\r                                                                               \r\r [elapsed time: 0:01:08] |*                                 | (ETA:   0:25:41) "
          ]
        },
        {
          "output_type": "stream",
          "name": "stdout",
          "text": [
            "[MoviePy] Writing audio in /content/filemp4/Happy Asmara - Tatu [OFFICIAL].mp3\n"
          ]
        },
        {
          "output_type": "stream",
          "name": "stderr",
          "text": [
            "100%|██████████| 6488/6488 [00:11<00:00, 584.53it/s]"
          ]
        },
        {
          "output_type": "stream",
          "name": "stdout",
          "text": [
            "[MoviePy] Done.\n"
          ]
        },
        {
          "output_type": "stream",
          "name": "stderr",
          "text": [
            "\n",
            "\r                                                                               \r\r [elapsed time: 0:01:19] |*                                 | (ETA:   0:25:25) "
          ]
        },
        {
          "output_type": "stream",
          "name": "stdout",
          "text": [
            "[MoviePy] Writing audio in /content/filemp4/Happy Asmara - Terdiam Sepi [OFFICIAL].mp3\n"
          ]
        },
        {
          "output_type": "stream",
          "name": "stderr",
          "text": [
            "100%|██████████| 6047/6047 [00:10<00:00, 598.14it/s]"
          ]
        },
        {
          "output_type": "stream",
          "name": "stdout",
          "text": [
            "[MoviePy] Done.\n"
          ]
        },
        {
          "output_type": "stream",
          "name": "stderr",
          "text": [
            "\n",
            "\r                                                                               \r\r [elapsed time: 0:01:29] |*                                 | (ETA:   0:24:54) "
          ]
        },
        {
          "output_type": "stream",
          "name": "stdout",
          "text": [
            "[MoviePy] Writing audio in /content/filemp4/MUNDUR ALON ALON - ILUX ID (OFFICIAL VIDEO).mp3\n"
          ]
        },
        {
          "output_type": "stream",
          "name": "stderr",
          "text": [
            "100%|██████████| 5821/5821 [00:09<00:00, 628.34it/s]"
          ]
        },
        {
          "output_type": "stream",
          "name": "stdout",
          "text": [
            "[MoviePy] Done.\n"
          ]
        },
        {
          "output_type": "stream",
          "name": "stderr",
          "text": [
            "\n",
            "\r                                                                               \r\r [elapsed time: 0:01:39] |**                                | (ETA:   0:24:15) "
          ]
        },
        {
          "output_type": "stream",
          "name": "stdout",
          "text": [
            "[MoviePy] Writing audio in /content/filemp4/Happy Asmara - Kupuja Puja Film (Official Music Video ANEKA SAFARI).mp3\n"
          ]
        },
        {
          "output_type": "stream",
          "name": "stderr",
          "text": [
            " 13%|█▎        | 731/5590 [00:01<00:08, 571.90it/s]"
          ]
        }
      ]
    },
    {
      "cell_type": "markdown",
      "source": [
        "## make zip"
      ],
      "metadata": {
        "id": "LT0XT9zNJ-jc"
      }
    },
    {
      "cell_type": "code",
      "source": [
        "!zip -r /content/playlistdownloader.zip /content/filemp4"
      ],
      "metadata": {
        "colab": {
          "base_uri": "https://localhost:8080/"
        },
        "id": "wPbKASlcJ_08",
        "outputId": "451a4a5b-2bd6-4a7e-da70-f43024049afd"
      },
      "execution_count": 10,
      "outputs": [
        {
          "output_type": "stream",
          "name": "stdout",
          "text": [
            "  adding: content/filemp4/ (stored 0%)\n",
            "  adding: content/filemp4/Happy Asmara Masih Ngambek Sama Denny Caknan  THE NEXT DIDI KEMPOT.mp3 (deflated 1%)\n",
            "  adding: content/filemp4/Happy Asmara - Siapa Benar Siapa Salah  Se Kejam Itu Kau Fitnahkan (Official Music Video).mp3 (deflated 1%)\n",
            "  adding: content/filemp4/HAPPY ASMARA - CIDRO 2 [ Dj Remix ] ( Official Music Video ) Panas panase srengenge kui.mp3 (deflated 1%)\n",
            "  adding: content/filemp4/Happy Asmara Terbaru - PANTASKAH (Official Music Video ANEKA SAFARI).mp3 (deflated 1%)\n",
            "  adding: content/filemp4/HAPPY ASMARA - ANGIN DALU ( Official Music Video ).mp3 (deflated 1%)\n",
            "  adding: content/filemp4/Happy Asmara - Talining Asmoro (Official Music Video ANEKA SAFARI).mp3 (deflated 2%)\n",
            "  adding: content/filemp4/Happy Asmara - Tak Lalekno Kowe [OFFICIAL].mp3 (deflated 1%)\n",
            "  adding: content/filemp4/Happy Asmara - Loro Pikir (Official Music Video ANEKA SAFARI).mp3 (deflated 1%)\n",
            "  adding: content/filemp4/HAPPY ASMARA - WES TATAS (Official Music Video).mp3 (deflated 1%)\n",
            "  adding: content/filemp4/Happy Asmara - Bahagiamu (Official Music Live).mp3 (deflated 3%)\n",
            "  adding: content/filemp4/Happy Asmara - Bukan Cinta Biasa - Diriku Hanya Insan Biasa (Official Music Video ANEKA SAFARI).mp3 (deflated 1%)\n",
            "  adding: content/filemp4/Happy Asmara - Cocote Tonggo (Official Music Video ANEKA SAFARI).mp3 (deflated 1%)\n",
            "  adding: content/filemp4/Happy Asmara -  Satu Hati Sampai Mati (Remix) [OFFICIAL].mp3 (deflated 1%)\n",
            "  adding: content/filemp4/Happy Asmara - Sebatas Teman [OFFICIAL].mp3 (deflated 1%)\n",
            "  adding: content/filemp4/HAPPY ASMARA - LALI RASANE TRESNO [Remix Version] (Official Music Video).mp3 (deflated 1%)\n",
            "  adding: content/filemp4/Tasya Rosmala Ft Ndarboy Genk - Isih Sayang (Official Music Video).mp3 (deflated 2%)\n",
            "  adding: content/filemp4/Happy Asmara - Dalan Liyane [OFFICIAL].mp3 (deflated 1%)\n",
            "  adding: content/filemp4/HAPPY ASMARA BIKIN AMBYAR SMAN 2 PARE KEDIRI SUGENG DALU.mp3 (deflated 1%)\n",
            "  adding: content/filemp4/HAPPY ASMARA - TAK IKHLASNO (Official Music Video).mp3 (deflated 3%)\n",
            "  adding: content/filemp4/Konco Mesra - Happy Asmara (Official Music Video ANEKA SAFARI).mp3 (deflated 2%)\n",
            "  adding: content/filemp4/Tanpa Batas Waktu.mp3 (deflated 1%)\n",
            "  adding: content/filemp4/Happy Asmara - Penak Kekancan [OFFICIAL].mp3 (deflated 2%)\n",
            "  adding: content/filemp4/Happy Asmara - Wong Sepele ( Official Music Video ANEKA SAFARI ).mp3 (deflated 2%)\n",
            "  adding: content/filemp4/Happy Asmara - Ninggal Janji [OFFICIAL].mp3 (deflated 4%)\n",
            "  adding: content/filemp4/Happy Asmara - Bojomu Semangatku [OFFICIAL].mp3 (deflated 2%)\n",
            "  adding: content/filemp4/Happy Asmara - Suara Hati  [OFFICIAL].mp3 (deflated 3%)\n",
            "  adding: content/filemp4/Happy Asmara - Welas Hang Ring Kene (Remix) [OFFICIAL].mp3 (deflated 2%)\n",
            "  adding: content/filemp4/Denny Caknan X Happy Asmara - SATRU (Official Music Video).mp3 (deflated 2%)\n",
            "  adding: content/filemp4/Happy Asmara - Kanggo Kowe [PREVIEW].mp3 (deflated 2%)\n",
            "  adding: content/filemp4/Happy Asmara - Tatu [OFFICIAL AUDIO].mp3 (deflated 1%)\n",
            "  adding: content/filemp4/Happy Asmara - Kau Pilih Dia [OFFICIAL].mp3 (deflated 1%)\n",
            "  adding: content/filemp4/Happy Asmara - Pingin Sayang (Pop Koplo) (Official Music Video ANEKA SAFARI).mp3 (deflated 2%)\n",
            "  adding: content/filemp4/Happy Asmara - Dalane Gusti (Bukan Religi) (Official Music Video ANEKA SAFARI).mp3 (deflated 1%)\n",
            "  adding: content/filemp4/Happy Asmara - Ku Puja Puja [OFFICIAL].mp3 (deflated 1%)\n",
            "  adding: content/filemp4/Happy Asmara - Dinggo Bukti (Official Music Video ANEKA SAFARI).mp3 (deflated 1%)\n",
            "  adding: content/filemp4/Happy Asmara - Sayur Asem [OFFICIAL].mp3 (deflated 2%)\n",
            "  adding: content/filemp4/HAPPY ASMARA - NDASKU MUMET NDASMU PIYE [Remix Version] (Official Music Video).mp3 (deflated 1%)\n",
            "  adding: content/filemp4/Denny Caknan - Sugeng Dalu (Official Music Video).mp3 (deflated 1%)\n",
            "  adding: content/filemp4/Happy Asmara - BILA CINTA BICARA  Lagu Happy Asmara Terpopuler 2022 (Official Music Video).mp3 (deflated 3%)\n",
            "  adding: content/filemp4/Happy Asmara - Tak Ikhlasno [OFFICIAL].mp3 (deflated 1%)\n",
            "  adding: content/filemp4/Happy Asmara - Banyu Moto Film (Official Music Video ANEKA SAFARI).mp3 (deflated 1%)\n",
            "  adding: content/filemp4/Happy Asmara - MATUR NUWUN (Official Music Video).mp3 (deflated 1%)\n",
            "  adding: content/filemp4/Denny Caknan - Tanpo Tresnamu (Official Music Video).mp3 (deflated 1%)\n",
            "  adding: content/filemp4/HAPPY ASMARA - CERITO LORO (Official Music Video)  Ati iki dudu dolanan.mp3 (deflated 2%)\n",
            "  adding: content/filemp4/Happy Asmara - Aku Sayang Kowe  Official Music Video.mp3 (deflated 2%)\n",
            "  adding: content/filemp4/Intan Chacha - Sugeng Dalu [OFFICIAL].mp3 (deflated 1%)\n",
            "  adding: content/filemp4/Happy Asmara - Lewat Angin Wengi (Official Music VIdeo).mp3 (deflated 3%)\n",
            "  adding: content/filemp4/SATRU - DENNY CAKNAN X HAPPY ASMARA LIVE COVER FANI ELLEN.mp3 (deflated 2%)\n",
            "  adding: content/filemp4/Happy Asmara - Sing Tak Sayang Ilang [OFFICIAL].mp3 (deflated 1%)\n",
            "  adding: content/filemp4/Happy Asmara - Dudohno Aku (Official Music Video).mp3 (deflated 1%)\n",
            "  adding: content/filemp4/Happy Asmara - Tatu (Official Music Video ANEKA SAFARI)  Didi Kempot.mp3 (deflated 10%)\n",
            "  adding: content/filemp4/Happy Asmara - Ku Puja Puja (Official Music Video).mp3 (deflated 1%)\n",
            "  adding: content/filemp4/HAPPY ASMARA - LUNGOO  Jhandut Version  ( Official Music Video ).mp3 (deflated 1%)\n",
            "  adding: content/filemp4/Happy Asmara - Jangan Selingkuh [OFFICIAL].mp3 (deflated 1%)\n",
            "  adding: content/filemp4/Happy Asmara - Bintang Kehidupan [OFFICIAL].mp3 (deflated 1%)\n",
            "  adding: content/filemp4/Denny Caknan feat Happy Asmara - AKU IKHLAS by  AFTERSHINE (Live Konser Pakeliran 2020).mp3 (deflated 6%)\n",
            "  adding: content/filemp4/Happy Asmara - Kuat Ati (Official Music Video ANEKA SAFARI).mp3 (deflated 2%)\n",
            "  adding: content/filemp4/Happy Asmara - Dungo [ OFFICIAL].mp3 (deflated 1%)\n",
            "  adding: content/filemp4/Happy Asmara - Dj TIKTOK Kamu Adalah Inspirasiku  Lagu Untuk Kamu (Official Video ANEKA SAFARI).mp3 (deflated 1%)\n",
            "  adding: content/filemp4/Happy Asmara - Cinta Kembang Rawe [OFFICIAL].mp3 (deflated 1%)\n",
            "  adding: content/filemp4/Tatu welas Happy Asmara Karya Arya Satria.mp3 (deflated 1%)\n",
            "  adding: content/filemp4/Happy Asmara - Salam Tresno (Tresno ra bakal ilyang) [OFFICIAL].mp3 (deflated 1%)\n",
            "  adding: content/filemp4/Happy Asmara - Ninggal Tatu (Karaoke Lirik Tanpa Vokal) by regis.mp3 (deflated 5%)\n",
            "  adding: content/filemp4/Happy Asmara - Aku Tenang  Pengenku Siji Nyanding Kowe Selawase (Official Music Video ANEKA SAFARI).mp3 (deflated 6%)\n",
            "  adding: content/filemp4/Serasi ! Denny Caknan dan Happy Asmara Bawakan Lagu Ini - [WES TATAS]  THE NEXT DIDI KEMPOT.mp3 (deflated 1%)\n",
            "  adding: content/filemp4/ambyar mak pyar.mp3 (deflated 1%)\n",
            "  adding: content/filemp4/Happy Asmara - Los Bojomu Semangatku (Official Music Video ANEKA SAFARI).mp3 (deflated 2%)\n",
            "  adding: content/filemp4/Happy Asmara - Ditinggal Pas Sayang Sayange [OFFICIAL].mp3 (deflated 1%)\n",
            "  adding: content/filemp4/Happy Asmara - Pamit Golek Tresno Liyo [OFFICIAL].mp3 (deflated 1%)\n",
            "  adding: content/filemp4/Lemah Teles.mp3 (deflated 2%)\n",
            "  adding: content/filemp4/Happy Asmara - Berhenti Kasihan (Official Music Video ANEKA SAFARI).mp3 (deflated 2%)\n",
            "  adding: content/filemp4/Happy Asmara - Benci Kusangka Sayang [OFFICIAL].mp3 (deflated 1%)\n",
            "  adding: content/filemp4/Happy Asmara - Mengharapkanmu (Official Music Video).mp3 (deflated 3%)\n",
            "  adding: content/filemp4/Happy Asmara - Andum Roso [OFFICIAL].mp3 (deflated 2%)\n",
            "  adding: content/filemp4/Happy Asmara - Balik Kanan Wae (Official Music Video).mp3 (deflated 3%)\n",
            "  adding: content/filemp4/Happy Asmara Terbaru Spesial - Bunga - Tarik Sis Semongko (Official Music Video ANEKA SAFARI).mp3 (deflated 2%)\n",
            "  adding: content/filemp4/Happy Asmara - Turumu Miring (Remix Version) [OFFICIAL].mp3 (deflated 2%)\n",
            "  adding: content/filemp4/Happy Asmara - Teman Bobo (Konco Turu) (Official Music Video).mp3 (deflated 2%)\n",
            "  adding: content/filemp4/Happy Asmara - Dudu Jodoku [OFFICIAL].mp3 (deflated 1%)\n",
            "  adding: content/filemp4/Happy Asmara - Tak Ikhlasno (Official Music Video).mp3 (deflated 2%)\n",
            "  adding: content/filemp4/Happy Asmara - Kakean Mikir [OFFICIAL].mp3 (deflated 3%)\n",
            "  adding: content/filemp4/Pawang Cinta.mp3 (deflated 1%)\n",
            "  adding: content/filemp4/Happy Asmara - Menepi (Pop Koplo) (Official Music Video ANEKA SAFARI).mp3 (deflated 1%)\n",
            "  adding: content/filemp4/Dj Sewates Kerjo - Hapyy Asmara I Official Music Video.mp3 (deflated 1%)\n",
            "  adding: content/filemp4/HAPPY ASMARA - WES TATAS (Official Live Music Video) Layangan Sing Tatas Tondo Tresnoku Wes Pungkas.mp3 (deflated 1%)\n",
            "  adding: content/filemp4/Dalan Liyane.mp3 (deflated 3%)\n",
            "  adding: content/filemp4/Happy Asmara - Luka Tapi Rindu (DJ Selow) [OFFICIAL].mp3 (deflated 4%)\n",
            "  adding: content/filemp4/Tanpa Batas Waktu - Happy Asmara  Ost Ikatan Cinta (Official Music Video ANEKA SAFARI).mp3 (deflated 1%)\n",
            "  adding: content/filemp4/HAPPY ASMARA - BAHAGIAMU (Official Music Video).mp3 (deflated 1%)\n",
            "  adding: content/filemp4/Ndarboy Genk - Wong Sepele (Official Music Video).mp3 (deflated 2%)\n",
            "  adding: content/filemp4/Happy Asmara - Ikhlas Ngenteni [OFFICIAL].mp3 (deflated 1%)\n",
            "  adding: content/filemp4/Happy Asmara - Saat Sayang Sayangnya  [OFFICIAL MUSIC VIDEO ] [ sms HPSDR kirim ke 1212 ].mp3 (deflated 2%)\n",
            "  adding: content/filemp4/HAPPY ASMARA - MANDEK NANGIS  Banyu moto uwes asat kerono mikir ( Official Music Video ).mp3 (deflated 1%)\n",
            "  adding: content/filemp4/AKU SING BERJUANG - ABAH LALA (OFFICIAL MUSIC VIDEO).mp3 (deflated 1%)\n",
            "  adding: content/filemp4/HAPPY ASMARA - WELAS HANG RING KENE (Official Music Video).mp3 (deflated 1%)\n",
            "  adding: content/filemp4/Happy Asmara - Ngejur Ati [OFFICIAL].mp3 (deflated 2%)\n",
            "  adding: content/filemp4/Denny Caknan feat Happy Asmara   - Jawaban Kartonyono Medot Janji (Getun Mburi).mp3 (deflated 2%)\n",
            "  adding: content/filemp4/Happy Asmara -  Rela Demi Cinta (Remix) [OFFICIAL].mp3 (deflated 3%)\n",
            "  adding: content/filemp4/Happy Asmara - DJ Bohoso Moto (Official Music Video ANEKA SAFARI).mp3 (deflated 1%)\n",
            "  adding: content/filemp4/Happy Asmara - Aku Ikhlas (Official Music Video).mp3 (deflated 1%)\n"
          ]
        }
      ]
    },
    {
      "cell_type": "markdown",
      "source": [
        "## copy to drive [download more faster]"
      ],
      "metadata": {
        "id": "Ob9soBBLGwHp"
      }
    },
    {
      "cell_type": "code",
      "source": [
        "# mount it - must same as colab login\n",
        "from google.colab import drive\n",
        "drive.mount('/content/drive')"
      ],
      "metadata": {
        "colab": {
          "base_uri": "https://localhost:8080/"
        },
        "id": "FuOrPK4UFy6f",
        "outputId": "5cce80ca-3329-4d89-a536-6787762e6dcd"
      },
      "execution_count": 11,
      "outputs": [
        {
          "output_type": "stream",
          "name": "stdout",
          "text": [
            "Mounted at /content/drive\n"
          ]
        }
      ]
    },
    {
      "cell_type": "code",
      "source": [
        "# copy it there\n",
        "!cp /content/playlistdownloader.zip /content/drive/MyDrive"
      ],
      "metadata": {
        "id": "wXgKhTW2GuEW"
      },
      "execution_count": 12,
      "outputs": []
    },
    {
      "cell_type": "markdown",
      "source": [
        "## direct download"
      ],
      "metadata": {
        "id": "G7Ww9AZhGzpF"
      }
    },
    {
      "cell_type": "code",
      "source": [
        "# download using files\n",
        "from google.colab import files\n",
        "files.download(\"/content/playlistdownloader.zip\")"
      ],
      "metadata": {
        "colab": {
          "base_uri": "https://localhost:8080/",
          "height": 16
        },
        "id": "V9NVDm6nG2r5",
        "outputId": "8a968d89-fd1b-41e7-cdc6-061397835a4e"
      },
      "execution_count": null,
      "outputs": [
        {
          "output_type": "display_data",
          "data": {
            "application/javascript": [
              "\n",
              "    async function download(id, filename, size) {\n",
              "      if (!google.colab.kernel.accessAllowed) {\n",
              "        return;\n",
              "      }\n",
              "      const div = document.createElement('div');\n",
              "      const label = document.createElement('label');\n",
              "      label.textContent = `Downloading \"${filename}\": `;\n",
              "      div.appendChild(label);\n",
              "      const progress = document.createElement('progress');\n",
              "      progress.max = size;\n",
              "      div.appendChild(progress);\n",
              "      document.body.appendChild(div);\n",
              "\n",
              "      const buffers = [];\n",
              "      let downloaded = 0;\n",
              "\n",
              "      const channel = await google.colab.kernel.comms.open(id);\n",
              "      // Send a message to notify the kernel that we're ready.\n",
              "      channel.send({})\n",
              "\n",
              "      for await (const message of channel.messages) {\n",
              "        // Send a message to notify the kernel that we're ready.\n",
              "        channel.send({})\n",
              "        if (message.buffers) {\n",
              "          for (const buffer of message.buffers) {\n",
              "            buffers.push(buffer);\n",
              "            downloaded += buffer.byteLength;\n",
              "            progress.value = downloaded;\n",
              "          }\n",
              "        }\n",
              "      }\n",
              "      const blob = new Blob(buffers, {type: 'application/binary'});\n",
              "      const a = document.createElement('a');\n",
              "      a.href = window.URL.createObjectURL(blob);\n",
              "      a.download = filename;\n",
              "      div.appendChild(a);\n",
              "      a.click();\n",
              "      div.remove();\n",
              "    }\n",
              "  "
            ],
            "text/plain": [
              "<IPython.core.display.Javascript object>"
            ]
          },
          "metadata": {}
        },
        {
          "output_type": "display_data",
          "data": {
            "application/javascript": [
              "download(\"download_fe20d102-8e95-49b6-871a-1ddb89500fc9\", \"playlistdownloader.zip\", 40039556)"
            ],
            "text/plain": [
              "<IPython.core.display.Javascript object>"
            ]
          },
          "metadata": {}
        }
      ]
    }
  ]
}